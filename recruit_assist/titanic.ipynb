{
 "cells": [
  {
   "cell_type": "code",
   "execution_count": null,
   "metadata": {},
   "outputs": [],
   "source": []
  },
  {
   "attachments": {},
   "cell_type": "markdown",
   "metadata": {},
   "source": [
    "## packages import"
   ]
  },
  {
   "cell_type": "code",
   "execution_count": 2,
   "metadata": {},
   "outputs": [],
   "source": [
    "# Data Manipulation \n",
    "import numpy as np\n",
    "import pandas as pd\n",
    "\n",
    "# Visualization \n",
    "import matplotlib.pyplot as plt\n",
    "## import missingno\n",
    "import seaborn as sns\n",
    "## from pandas.tools.plotting import scatter_matrix\n",
    "from mpl_toolkits.mplot3d import Axes3D\n",
    "\n",
    "# Feature Selection and Encoding\n",
    "from sklearn.feature_selection import RFE, RFECV\n",
    "from sklearn.svm import SVR\n",
    "from sklearn.decomposition import PCA\n",
    "from sklearn.preprocessing import OneHotEncoder, LabelEncoder, label_binarize\n",
    "\n",
    "# Machine learning \n",
    "import sklearn.ensemble as ske\n",
    "from sklearn import datasets, model_selection, tree, preprocessing, metrics, linear_model\n",
    "from sklearn.svm import LinearSVC\n",
    "from sklearn.ensemble import RandomForestClassifier, GradientBoostingClassifier\n",
    "from sklearn.neighbors import KNeighborsClassifier\n",
    "from sklearn.naive_bayes import GaussianNB\n",
    "from sklearn.linear_model import LinearRegression, LogisticRegression, Ridge, Lasso, SGDClassifier\n",
    "from sklearn.tree import DecisionTreeClassifier\n",
    "## import tensorflow as tf\n",
    "\n",
    "# Grid and Random Search\n",
    "import scipy.stats as st\n",
    "from scipy.stats import randint as sp_randint\n",
    "from sklearn.model_selection import GridSearchCV\n",
    "from sklearn.model_selection import RandomizedSearchCV\n",
    "\n",
    "# Metrics\n",
    "from sklearn.metrics import precision_recall_fscore_support, roc_curve, auc\n",
    "\n",
    "# Managing Warnings \n",
    "import warnings\n",
    "warnings.filterwarnings('ignore')\n",
    "\n",
    "# Plot the Figures Inline\n",
    "%matplotlib inline\n",
    "sns.set_style(\"darkgrid\") \n",
    "sns.set_context(\"notebook\")\n",
    "\n",
    "# Import Standard Python Libraries\n",
    "import io, os, sys, types, time, datetime, math, random, requests, subprocess, tempfile, zipfile, subprocess #, StringIO\n",
    "from pathlib import Path"
   ]
  },
  {
   "cell_type": "code",
   "execution_count": 3,
   "metadata": {},
   "outputs": [],
   "source": [
    "FILE = Path('__file__').resolve()\n",
    "ROOT = FILE.parents[0]  # DATA-SCUENCE-PROJECTS root directory\n",
    "if ROOT.as_posix() not in sys.path:\n",
    "    sys.path.append(ROOT.as_posix())  # add ROOT to PATH\n",
    "# ROOT = ROOT.relative_to(Path.cwd())"
   ]
  },
  {
   "attachments": {},
   "cell_type": "markdown",
   "metadata": {},
   "source": [
    "## Download the data"
   ]
  },
  {
   "cell_type": "code",
   "execution_count": 7,
   "metadata": {},
   "outputs": [],
   "source": [
    "username = 'vinicius150987'\n",
    "dataset_name = 'titanic3'\n",
    "destination_folder = ROOT / 'datasets'"
   ]
  },
  {
   "cell_type": "code",
   "execution_count": 12,
   "metadata": {},
   "outputs": [],
   "source": [
    "def download_kaggle_dataset(username, dataset_name, destination_folder):\n",
    "    # Check if Kaggle package is installed\n",
    "    try:\n",
    "        import kaggle\n",
    "    except (ImportError or ModuleNotFoundError):\n",
    "        # Install Kaggle package using conda command\n",
    "        subprocess.run(['conda', 'install', '-c', 'conda-forge', 'kaggle'], check=True)\n",
    "\n",
    "    # Configure the Kaggle API credentials\n",
    "    os.environ['KAGGLE_USERNAME'] = username\n",
    "    os.environ['KAGGLE_KEY'] = 'your_kaggle_api_key'  # Replace with your Kaggle API key\n",
    "\n",
    "    # Download the dataset\n",
    "    dataset_command = f'kaggle datasets download -d {username}/{dataset_name}'\n",
    "    !{dataset_command}\n",
    "\n",
    "    # Extract the dataset\n",
    "    zip_file = f'{dataset_name}.zip'\n",
    "    with zipfile.ZipFile(zip_file, 'r') as zip_ref:\n",
    "        #name, extension = os.path.splitext(file_name)\n",
    "        Path(destination_folder).mkdir(parents=True, exist_ok=True)\n",
    "        zip_ref.extractall(destination_folder)\n",
    "\n",
    "    # Delete the downloaded zip file\n",
    "    os.remove(zip_file)\n",
    "\n",
    "# Usage example\n",
    "\n"
   ]
  },
  {
   "cell_type": "code",
   "execution_count": 13,
   "metadata": {},
   "outputs": [
    {
     "ename": "FileNotFoundError",
     "evalue": "[WinError 2] Le fichier spécifié est introuvable",
     "output_type": "error",
     "traceback": [
      "\u001b[1;31m---------------------------------------------------------------------------\u001b[0m",
      "\u001b[1;31mModuleNotFoundError\u001b[0m                       Traceback (most recent call last)",
      "Cell \u001b[1;32mIn[12], line 4\u001b[0m, in \u001b[0;36mdownload_kaggle_dataset\u001b[1;34m(username, dataset_name, destination_folder)\u001b[0m\n\u001b[0;32m      3\u001b[0m \u001b[39mtry\u001b[39;00m:\n\u001b[1;32m----> 4\u001b[0m     \u001b[39mimport\u001b[39;00m \u001b[39mkaggle\u001b[39;00m\n\u001b[0;32m      5\u001b[0m \u001b[39mexcept\u001b[39;00m (\u001b[39mImportError\u001b[39;00m \u001b[39mor\u001b[39;00m \u001b[39mModuleNotFoundError\u001b[39;00m):\n\u001b[0;32m      6\u001b[0m     \u001b[39m# Install Kaggle package using conda command\u001b[39;00m\n",
      "\u001b[1;31mModuleNotFoundError\u001b[0m: No module named 'kaggle'",
      "\nDuring handling of the above exception, another exception occurred:\n",
      "\u001b[1;31mFileNotFoundError\u001b[0m                         Traceback (most recent call last)",
      "Cell \u001b[1;32mIn[13], line 1\u001b[0m\n\u001b[1;32m----> 1\u001b[0m download_kaggle_dataset(username\u001b[39m=\u001b[39;49musername, \n\u001b[0;32m      2\u001b[0m                         dataset_name\u001b[39m=\u001b[39;49mdataset_name, \n\u001b[0;32m      3\u001b[0m                         destination_folder\u001b[39m=\u001b[39;49mdestination_folder)\n",
      "Cell \u001b[1;32mIn[12], line 7\u001b[0m, in \u001b[0;36mdownload_kaggle_dataset\u001b[1;34m(username, dataset_name, destination_folder)\u001b[0m\n\u001b[0;32m      4\u001b[0m     \u001b[39mimport\u001b[39;00m \u001b[39mkaggle\u001b[39;00m\n\u001b[0;32m      5\u001b[0m \u001b[39mexcept\u001b[39;00m (\u001b[39mImportError\u001b[39;00m \u001b[39mor\u001b[39;00m \u001b[39mModuleNotFoundError\u001b[39;00m):\n\u001b[0;32m      6\u001b[0m     \u001b[39m# Install Kaggle package using conda command\u001b[39;00m\n\u001b[1;32m----> 7\u001b[0m     subprocess\u001b[39m.\u001b[39;49mrun([\u001b[39m'\u001b[39;49m\u001b[39mconda\u001b[39;49m\u001b[39m'\u001b[39;49m, \u001b[39m'\u001b[39;49m\u001b[39minstall\u001b[39;49m\u001b[39m'\u001b[39;49m, \u001b[39m'\u001b[39;49m\u001b[39m-c\u001b[39;49m\u001b[39m'\u001b[39;49m, \u001b[39m'\u001b[39;49m\u001b[39mconda-forge\u001b[39;49m\u001b[39m'\u001b[39;49m, \u001b[39m'\u001b[39;49m\u001b[39mkaggle\u001b[39;49m\u001b[39m'\u001b[39;49m], check\u001b[39m=\u001b[39;49m\u001b[39mTrue\u001b[39;49;00m)\n\u001b[0;32m      9\u001b[0m \u001b[39m# Configure the Kaggle API credentials\u001b[39;00m\n\u001b[0;32m     10\u001b[0m os\u001b[39m.\u001b[39menviron[\u001b[39m'\u001b[39m\u001b[39mKAGGLE_USERNAME\u001b[39m\u001b[39m'\u001b[39m] \u001b[39m=\u001b[39m username\n",
      "File \u001b[1;32mc:\\Users\\Brani\\anaconda3\\envs\\paris_housing\\lib\\subprocess.py:493\u001b[0m, in \u001b[0;36mrun\u001b[1;34m(input, capture_output, timeout, check, *popenargs, **kwargs)\u001b[0m\n\u001b[0;32m    490\u001b[0m     kwargs[\u001b[39m'\u001b[39m\u001b[39mstdout\u001b[39m\u001b[39m'\u001b[39m] \u001b[39m=\u001b[39m PIPE\n\u001b[0;32m    491\u001b[0m     kwargs[\u001b[39m'\u001b[39m\u001b[39mstderr\u001b[39m\u001b[39m'\u001b[39m] \u001b[39m=\u001b[39m PIPE\n\u001b[1;32m--> 493\u001b[0m \u001b[39mwith\u001b[39;00m Popen(\u001b[39m*\u001b[39;49mpopenargs, \u001b[39m*\u001b[39;49m\u001b[39m*\u001b[39;49mkwargs) \u001b[39mas\u001b[39;00m process:\n\u001b[0;32m    494\u001b[0m     \u001b[39mtry\u001b[39;00m:\n\u001b[0;32m    495\u001b[0m         stdout, stderr \u001b[39m=\u001b[39m process\u001b[39m.\u001b[39mcommunicate(\u001b[39minput\u001b[39m, timeout\u001b[39m=\u001b[39mtimeout)\n",
      "File \u001b[1;32mc:\\Users\\Brani\\anaconda3\\envs\\paris_housing\\lib\\subprocess.py:858\u001b[0m, in \u001b[0;36mPopen.__init__\u001b[1;34m(self, args, bufsize, executable, stdin, stdout, stderr, preexec_fn, close_fds, shell, cwd, env, universal_newlines, startupinfo, creationflags, restore_signals, start_new_session, pass_fds, encoding, errors, text)\u001b[0m\n\u001b[0;32m    854\u001b[0m         \u001b[39mif\u001b[39;00m \u001b[39mself\u001b[39m\u001b[39m.\u001b[39mtext_mode:\n\u001b[0;32m    855\u001b[0m             \u001b[39mself\u001b[39m\u001b[39m.\u001b[39mstderr \u001b[39m=\u001b[39m io\u001b[39m.\u001b[39mTextIOWrapper(\u001b[39mself\u001b[39m\u001b[39m.\u001b[39mstderr,\n\u001b[0;32m    856\u001b[0m                     encoding\u001b[39m=\u001b[39mencoding, errors\u001b[39m=\u001b[39merrors)\n\u001b[1;32m--> 858\u001b[0m     \u001b[39mself\u001b[39;49m\u001b[39m.\u001b[39;49m_execute_child(args, executable, preexec_fn, close_fds,\n\u001b[0;32m    859\u001b[0m                         pass_fds, cwd, env,\n\u001b[0;32m    860\u001b[0m                         startupinfo, creationflags, shell,\n\u001b[0;32m    861\u001b[0m                         p2cread, p2cwrite,\n\u001b[0;32m    862\u001b[0m                         c2pread, c2pwrite,\n\u001b[0;32m    863\u001b[0m                         errread, errwrite,\n\u001b[0;32m    864\u001b[0m                         restore_signals, start_new_session)\n\u001b[0;32m    865\u001b[0m \u001b[39mexcept\u001b[39;00m:\n\u001b[0;32m    866\u001b[0m     \u001b[39m# Cleanup if the child failed starting.\u001b[39;00m\n\u001b[0;32m    867\u001b[0m     \u001b[39mfor\u001b[39;00m f \u001b[39min\u001b[39;00m \u001b[39mfilter\u001b[39m(\u001b[39mNone\u001b[39;00m, (\u001b[39mself\u001b[39m\u001b[39m.\u001b[39mstdin, \u001b[39mself\u001b[39m\u001b[39m.\u001b[39mstdout, \u001b[39mself\u001b[39m\u001b[39m.\u001b[39mstderr)):\n",
      "File \u001b[1;32mc:\\Users\\Brani\\anaconda3\\envs\\paris_housing\\lib\\subprocess.py:1311\u001b[0m, in \u001b[0;36mPopen._execute_child\u001b[1;34m(self, args, executable, preexec_fn, close_fds, pass_fds, cwd, env, startupinfo, creationflags, shell, p2cread, p2cwrite, c2pread, c2pwrite, errread, errwrite, unused_restore_signals, unused_start_new_session)\u001b[0m\n\u001b[0;32m   1309\u001b[0m \u001b[39m# Start the process\u001b[39;00m\n\u001b[0;32m   1310\u001b[0m \u001b[39mtry\u001b[39;00m:\n\u001b[1;32m-> 1311\u001b[0m     hp, ht, pid, tid \u001b[39m=\u001b[39m _winapi\u001b[39m.\u001b[39;49mCreateProcess(executable, args,\n\u001b[0;32m   1312\u001b[0m                              \u001b[39m# no special security\u001b[39;49;00m\n\u001b[0;32m   1313\u001b[0m                              \u001b[39mNone\u001b[39;49;00m, \u001b[39mNone\u001b[39;49;00m,\n\u001b[0;32m   1314\u001b[0m                              \u001b[39mint\u001b[39;49m(\u001b[39mnot\u001b[39;49;00m close_fds),\n\u001b[0;32m   1315\u001b[0m                              creationflags,\n\u001b[0;32m   1316\u001b[0m                              env,\n\u001b[0;32m   1317\u001b[0m                              cwd,\n\u001b[0;32m   1318\u001b[0m                              startupinfo)\n\u001b[0;32m   1319\u001b[0m \u001b[39mfinally\u001b[39;00m:\n\u001b[0;32m   1320\u001b[0m     \u001b[39m# Child is launched. Close the parent's copy of those pipe\u001b[39;00m\n\u001b[0;32m   1321\u001b[0m     \u001b[39m# handles that only the child should have open.  You need\u001b[39;00m\n\u001b[1;32m   (...)\u001b[0m\n\u001b[0;32m   1324\u001b[0m     \u001b[39m# pipe will not close when the child process exits and the\u001b[39;00m\n\u001b[0;32m   1325\u001b[0m     \u001b[39m# ReadFile will hang.\u001b[39;00m\n\u001b[0;32m   1326\u001b[0m     \u001b[39mself\u001b[39m\u001b[39m.\u001b[39m_close_pipe_fds(p2cread, p2cwrite,\n\u001b[0;32m   1327\u001b[0m                          c2pread, c2pwrite,\n\u001b[0;32m   1328\u001b[0m                          errread, errwrite)\n",
      "\u001b[1;31mFileNotFoundError\u001b[0m: [WinError 2] Le fichier spécifié est introuvable"
     ]
    }
   ],
   "source": [
    "download_kaggle_dataset(username=username, \n",
    "                        dataset_name=dataset_name, \n",
    "                        destination_folder=destination_folder)"
   ]
  },
  {
   "attachments": {},
   "cell_type": "markdown",
   "metadata": {},
   "source": []
  }
 ],
 "metadata": {
  "kernelspec": {
   "display_name": "paris_housing",
   "language": "python",
   "name": "python3"
  },
  "language_info": {
   "codemirror_mode": {
    "name": "ipython",
    "version": 3
   },
   "file_extension": ".py",
   "mimetype": "text/x-python",
   "name": "python",
   "nbconvert_exporter": "python",
   "pygments_lexer": "ipython3",
   "version": "3.8.16"
  },
  "orig_nbformat": 4
 },
 "nbformat": 4,
 "nbformat_minor": 2
}
